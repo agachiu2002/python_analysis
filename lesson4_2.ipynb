{
 "cells": [
  {
   "cell_type": "code",
   "execution_count": 42,
   "metadata": {},
   "outputs": [
    {
     "ename": "SyntaxError",
     "evalue": "invalid syntax (2074857220.py, line 1)",
     "output_type": "error",
     "traceback": [
      "\u001b[0;36m  Cell \u001b[0;32mIn[42], line 1\u001b[0;36m\u001b[0m\n\u001b[0;31m    Python 字典操作方法規劃\u001b[0m\n\u001b[0m           ^\u001b[0m\n\u001b[0;31mSyntaxError\u001b[0m\u001b[0;31m:\u001b[0m invalid syntax\n"
     ]
    }
   ],
   "source": [
    "Python 字典操作方法規劃\n",
    "建立與存取\n",
    "修改與更新\n",
    "刪除操作\n",
    "其他實用方法\n",
    "\n",
    "# 1. 建立字典\n",
    "person = {\n",
    "    'name': '邱瓊瑢',\n",
    "    'age': '40',\n",
    "    'city': 'Taipei'\n",
    "}\n",
    "\n",
    "# 2. 基本存取操作\n",
    "print(person['name'])          # 直接存取\n",
    "print(person.get('age'))      # 使用get()方法存取\n",
    "print(person.get('email', '未設定'))  # 帶預設值的get()\n",
    "\n",
    "# 3. 修改與更新\n",
    "person['age'] = '41'          # 修改現有值\n",
    "person['email'] = 'test@example.com'  # 新增項目\n",
    "person.update({'phone': '123', 'job': 'engineer'})  # 批次更新\n",
    "\n",
    "# 4. 刪除操作\n",
    "del person['city']            # 刪除特定鍵值對\n",
    "removed_value = person.pop('age')  # 刪除並返回值\n",
    "last_item = person.popitem()  # 刪除最後一個項目\n",
    "person.clear()                # 清空字典\n",
    "\n",
    "# 5. 實用方法\n",
    "keys = person.keys()          # 取得所有鍵\n",
    "values = person.values()      # 取得所有值\n",
    "items = person.items()        # 取得所有鍵值對\n",
    "new_dict = person.copy()      # 複製字典\n",
    "is_exist = 'name' in person   # 檢查鍵是否存在"
   ]
  },
  {
   "cell_type": "code",
   "execution_count": 38,
   "metadata": {},
   "outputs": [
    {
     "data": {
      "text/plain": [
       "{'name': 'Agathe', 'age': '40', 'city': 'Taipei'}"
      ]
     },
     "execution_count": 38,
     "metadata": {},
     "output_type": "execute_result"
    }
   ],
   "source": [
    "#dict實體\n",
    "p1={\n",
    "    'name':'Agathe',\n",
    "    'age':'40',\n",
    "    'city':'Taipei'\n",
    "    }\n",
    "p1"
   ]
  },
  {
   "cell_type": "code",
   "execution_count": 31,
   "metadata": {},
   "outputs": [
    {
     "name": "stdout",
     "output_type": "stream",
     "text": [
      "邱瓊瑢\n",
      "40\n",
      "agachiu2002@gmail.com\n"
     ]
    }
   ],
   "source": [
    "print(p1['name'])\n",
    "print(p1.get('age'))\n",
    "print(p1.get('email', 'agachiu2002@gmail.com'))  # 帶預設值的get()"
   ]
  },
  {
   "cell_type": "code",
   "execution_count": 40,
   "metadata": {},
   "outputs": [
    {
     "name": "stdout",
     "output_type": "stream",
     "text": [
      "{'name': 'Agathe', 'age': '41', 'city': 'Taipei', 'email': 'aga@gmail.com', 'phone': '123', 'job': 'PM&PR'}\n",
      "dict_items([('name', 'Agathe'), ('age', '41'), ('city', 'Taipei'), ('email', 'aga@gmail.com'), ('phone', '123'), ('job', 'PM&PR')])\n"
     ]
    }
   ],
   "source": [
    "# 3. 修改與更新# 3. 修改與更新\n",
    "p1['age'] = '41'          # 修改現有值\n",
    "p1['email'] = 'aga@gmail.com'  # 新增項目\n",
    "p1.update({'phone': '123', 'job': 'PM&PR'})  # 批次更新\n",
    "print(p1)\n",
    "print(p1.items())  # 輸出所有鍵值對"
   ]
  },
  {
   "cell_type": "code",
   "execution_count": 41,
   "metadata": {},
   "outputs": [
    {
     "ename": "SyntaxError",
     "evalue": "invalid syntax (978258105.py, line 1)",
     "output_type": "error",
     "traceback": [
      "\u001b[0;36m  Cell \u001b[0;32mIn[41], line 1\u001b[0;36m\u001b[0m\n\u001b[0;31m    使用 for in 迴圈處理串列的步驟規劃\u001b[0m\n\u001b[0m       ^\u001b[0m\n\u001b[0;31mSyntaxError\u001b[0m\u001b[0;31m:\u001b[0m invalid syntax\n"
     ]
    }
   ],
   "source": [
    "使用 for in 迴圈處理串列的步驟規劃\n",
    "直接遍歷串列元素\n",
    "使用索引遍歷\n",
    "同時取得索引和值\n",
    "處理巢狀串列\n",
    "\n",
    "# 1. 基本串列遍歷\n",
    "fruits = ['蘋果', '香蕉', '橘子']\n",
    "for fruit in fruits:\n",
    "    print(fruit)\n",
    "\n",
    "# 2. 使用索引遍歷\n",
    "for i in range(len(fruits)):\n",
    "    print(f'第 {i+1} 個水果是: {fruits[i]}')\n",
    "\n",
    "# 3. 使用 enumerate() 同時取得索引和值\n",
    "for index, fruit in enumerate(fruits):\n",
    "    print(f'索引 {index}: {fruit}')\n",
    "\n",
    "# 4. 巢狀串列遍歷\n",
    "nested_list = [\n",
    "    ['小明', 85],\n",
    "    ['小華', 90],\n",
    "    ['小李', 95]\n",
    "]\n",
    "for name, score in nested_list:\n",
    "    print(f'{name} 的分數是 {score}')\n",
    "\n",
    "# 5. 條件式遍歷\n",
    "scores = [60, 85, 90, 75, 95]\n",
    "for score in scores:\n",
    "    if score >= 80:\n",
    "        print(f'及格分數: {score}')\n"
   ]
  },
  {
   "cell_type": "code",
   "execution_count": 43,
   "metadata": {},
   "outputs": [
    {
     "ename": "SyntaxError",
     "evalue": "invalid character '（' (U+FF08) (4111444150.py, line 1)",
     "output_type": "error",
     "traceback": [
      "\u001b[0;36m  Cell \u001b[0;32mIn[43], line 1\u001b[0;36m\u001b[0m\n\u001b[0;31m    小括號在元組（Tuple）中的意義\u001b[0m\n\u001b[0m          ^\u001b[0m\n\u001b[0;31mSyntaxError\u001b[0m\u001b[0;31m:\u001b[0m invalid character '（' (U+FF08)\n"
     ]
    }
   ],
   "source": [
    "小括號在元組（Tuple）中的意義\n",
    "作用： 在 Python 中，小括號可以用於創建元組（不可變的序列）。\n",
    "\n",
    "示例：\n",
    "\n",
    "python\n",
    "複製\n",
    "編輯\n",
    "my_tuple = (1, 2, 3)\n",
    "print(my_tuple)  # 輸出: (1, 2, 3)"
   ]
  }
 ],
 "metadata": {
  "kernelspec": {
   "display_name": "base",
   "language": "python",
   "name": "python3"
  },
  "language_info": {
   "codemirror_mode": {
    "name": "ipython",
    "version": 3
   },
   "file_extension": ".py",
   "mimetype": "text/x-python",
   "name": "python",
   "nbconvert_exporter": "python",
   "pygments_lexer": "ipython3",
   "version": "3.12.2"
  }
 },
 "nbformat": 4,
 "nbformat_minor": 2
}
