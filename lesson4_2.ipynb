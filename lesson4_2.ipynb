{
 "cells": [
  {
   "cell_type": "code",
   "execution_count": 38,
   "metadata": {},
   "outputs": [
    {
     "data": {
      "text/plain": [
       "{'name': 'Agathe', 'age': '40', 'city': 'Taipei'}"
      ]
     },
     "execution_count": 38,
     "metadata": {},
     "output_type": "execute_result"
    }
   ],
   "source": [
    "#dict實體\n",
    "p1={\n",
    "    'name':'Agathe',\n",
    "    'age':'40',\n",
    "    'city':'Taipei'\n",
    "    }\n",
    "p1"
   ]
  },
  {
   "cell_type": "code",
   "execution_count": 31,
   "metadata": {},
   "outputs": [
    {
     "name": "stdout",
     "output_type": "stream",
     "text": [
      "邱瓊瑢\n",
      "40\n",
      "agachiu2002@gmail.com\n"
     ]
    }
   ],
   "source": [
    "print(p1['name'])\n",
    "print(p1.get('age'))\n",
    "print(p1.get('email', 'agachiu2002@gmail.com'))  # 帶預設值的get()"
   ]
  },
  {
   "cell_type": "code",
   "execution_count": 39,
   "metadata": {},
   "outputs": [
    {
     "name": "stdout",
     "output_type": "stream",
     "text": [
      "{'name': 'Agathe', 'age': '41', 'city': 'Taipei', 'email': 'aga@gmail.com', 'phone': '123', 'job': 'PM&PR'}\n",
      "dict_items([('name', 'Agathe'), ('age', '41'), ('city', 'Taipei'), ('email', 'aga@gmail.com'), ('phone', '123'), ('job', 'PM&PR')])\n"
     ]
    }
   ],
   "source": [
    "# 3. 修改與更新# 3. 修改與更新\n",
    "p1['age'] = '41'          # 修改現有值\n",
    "p1['email'] = 'aga@gmail.com'  # 新增項目\n",
    "p1.update({'phone': '123', 'job': 'PM&PR'})  # 批次更新\n",
    "print(p1)\n",
    "print(p1.items())  # 輸出所有鍵值對"
   ]
  }
 ],
 "metadata": {
  "kernelspec": {
   "display_name": "base",
   "language": "python",
   "name": "python3"
  },
  "language_info": {
   "codemirror_mode": {
    "name": "ipython",
    "version": 3
   },
   "file_extension": ".py",
   "mimetype": "text/x-python",
   "name": "python",
   "nbconvert_exporter": "python",
   "pygments_lexer": "ipython3",
   "version": "3.12.2"
  }
 },
 "nbformat": 4,
 "nbformat_minor": 2
}
