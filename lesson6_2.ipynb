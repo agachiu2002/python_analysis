{
 "cells": [
  {
   "cell_type": "code",
   "execution_count": 1,
   "metadata": {},
   "outputs": [
    {
     "name": "stdout",
     "output_type": "stream",
     "text": [
      "<ul class=\"ui-menu ui-widget ui-widget-content ui-autocomplete ui-front\" id=\"ui-id-1\" style=\"display: none;\" tabindex=\"0\" unselectable=\"on\"></ul>\n"
     ]
    }
   ],
   "source": [
    "from bs4 import BeautifulSoup\n",
    "\n",
    "html = '''\n",
    "<html>\n",
    "  <body>\n",
    "    <ul id=\"ui-id-1\" tabindex=\"0\" class=\"ui-menu ui-widget ui-widget-content ui-autocomplete ui-front\" unselectable=\"on\" style=\"display: none;\"></ul>\n",
    "  </body>\n",
    "</html>\n",
    "'''\n",
    "\n",
    "# 解析 HTML 字串\n",
    "soup = BeautifulSoup(html, 'html.parser')\n",
    "\n",
    "# 使用 find_all 找到所有 id 為 \"ui-id-1\" 的 <ul> 標籤\n",
    "ul_tags = soup.find_all('ul', id='ui-id-1')\n",
    "\n",
    "# 印出找到的標籤\n",
    "for ul in ul_tags:\n",
    "    print(ul)\n"
   ]
  }
 ],
 "metadata": {
  "kernelspec": {
   "display_name": "base",
   "language": "python",
   "name": "python3"
  },
  "language_info": {
   "codemirror_mode": {
    "name": "ipython",
    "version": 3
   },
   "file_extension": ".py",
   "mimetype": "text/x-python",
   "name": "python",
   "nbconvert_exporter": "python",
   "pygments_lexer": "ipython3",
   "version": "3.11.5"
  }
 },
 "nbformat": 4,
 "nbformat_minor": 2
}
