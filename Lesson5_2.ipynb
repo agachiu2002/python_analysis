{
 "cells": [
  {
   "cell_type": "code",
   "execution_count": 12,
   "metadata": {},
   "outputs": [],
   "source": [
    "file = open(file='student.csv',encoding='utf-8')\n",
    "file.close()"
   ]
  },
  {
   "cell_type": "code",
   "execution_count": 13,
   "metadata": {},
   "outputs": [
    {
     "name": "stdout",
     "output_type": "stream",
     "text": [
      "name,chinese,english,math,history,health\n",
      "student1,93,98,55,68,95\n",
      "student2,74,79,64,83,89\n",
      "student3,99,62,97,95,57\n",
      "student4,72,60,94,91,95\n",
      "student5,85,81,75,89,79\n",
      "student6,92,94,80,87,56\n",
      "student7,54,97,65,76,80\n",
      "student8,54,91,98,61,55\n",
      "student9,91,81,97,84,100\n",
      "student10,73,80,87,87,53\n",
      "student11,98,89,77,80,79\n",
      "student12,76,60,56,92,70\n",
      "student13,79,84,52,81,55\n",
      "student14,73,61,71,90,66\n",
      "student15,54,88,65,76,61\n",
      "student16,69,74,67,93,77\n",
      "student17,73,92,73,57,62\n",
      "student18,93,82,85,66,60\n",
      "student19,70,70,89,82,81\n",
      "student20,57,81,92,84,72\n",
      "student21,100,73,75,84,65\n",
      "student22,89,77,92,86,99\n",
      "student23,64,90,61,61,74\n",
      "student24,71,66,52,96,56\n",
      "student25,77,94,52,55,96\n",
      "student26,54,51,61,81,70\n",
      "student27,55,79,68,79,82\n",
      "student28,59,63,80,89,51\n",
      "student29,63,60,89,60,94\n",
      "student30,93,55,100,93,54\n",
      "student31,75,83,76,63,54\n",
      "student32,80,86,54,91,63\n",
      "student33,69,69,60,71,67\n",
      "student34,91,62,52,88,84\n",
      "student35,55,75,67,76,80\n",
      "student36,78,50,82,55,86\n",
      "student37,100,88,73,83,88\n",
      "student38,80,79,95,58,70\n",
      "student39,66,89,80,99,71\n",
      "student40,76,50,55,97,90\n",
      "student41,94,88,89,60,93\n",
      "student42,71,59,85,96,65\n",
      "student43,98,70,87,57,68\n",
      "student44,53,74,93,79,96\n",
      "student45,81,84,100,82,73\n",
      "student46,58,70,60,65,70\n",
      "student47,81,57,66,85,72\n",
      "student48,59,80,53,74,51\n",
      "student49,78,55,69,51,98\n",
      "student50,93,99,64,100,77\n",
      "\n"
     ]
    }
   ],
   "source": [
    "with open(file='student.csv',encoding='utf-8') as file:\n",
    "    content:str = file.read()\n",
    "\n",
    "print(content)"
   ]
  },
  {
   "cell_type": "code",
   "execution_count": 14,
   "metadata": {},
   "outputs": [
    {
     "name": "stdout",
     "output_type": "stream",
     "text": [
      "['student20', '57', '81', '92', '84', '72']\n"
     ]
    }
   ],
   "source": [
    "import csv\n",
    "with open(file='student.csv',encoding='utf-8') as file:\n",
    "    reader = csv.reader(file)\n",
    "    next(reader)\n",
    "    students:list = list(reader)\n",
    "\n",
    "for student in students:\n",
    "    if student[0] == 'student20':\n",
    "        print(student)"
   ]
  },
  {
   "cell_type": "code",
   "execution_count": 15,
   "metadata": {},
   "outputs": [
    {
     "name": "stdout",
     "output_type": "stream",
     "text": [
      "{'name': 'student20', 'chinese': '57', 'english': '81', 'math': '92', 'history': '84', 'health': '72'}\n"
     ]
    }
   ],
   "source": [
    "import csv\n",
    "with open(file='student.csv',encoding='utf-8') as file:\n",
    "    reader = csv.DictReader(file)\n",
    "    students = list(reader)\n",
    "\n",
    "for student in students:\n",
    "    if student['name'] == 'student20':\n",
    "        print(student)"
   ]
  }
 ],
 "metadata": {
  "kernelspec": {
   "display_name": "base",
   "language": "python",
   "name": "python3"
  },
  "language_info": {
   "codemirror_mode": {
    "name": "ipython",
    "version": 3
   },
   "file_extension": ".py",
   "mimetype": "text/x-python",
   "name": "python",
   "nbconvert_exporter": "python",
   "pygments_lexer": "ipython3",
   "version": "3.12.2"
  }
 },
 "nbformat": 4,
 "nbformat_minor": 2
}
