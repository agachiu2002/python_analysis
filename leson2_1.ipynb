{
 "cells": [
  {
   "cell_type": "code",
   "execution_count": 1,
   "metadata": {},
   "outputs": [
    {
     "name": "stdout",
     "output_type": "stream",
     "text": [
      "10\n",
      "20\n"
     ]
    }
   ],
   "source": [
    "print(2 * (1 + 2) ** 2 - 2 ** 2 * 2)\n",
    "print((2+3)*4)"
   ]
  },
  {
   "cell_type": "code",
   "execution_count": 2,
   "metadata": {},
   "outputs": [
    {
     "data": {
      "text/plain": [
       "'/bin/python3 -m pip install ipykernel -U --user --force-reinstall'"
      ]
     },
     "execution_count": 2,
     "metadata": {},
     "output_type": "execute_result"
    }
   ],
   "source": [
    "'/bin/python3 -m pip install ipykernel -U --user --force-reinstall'"
   ]
  },
  {
   "cell_type": "code",
   "execution_count": 3,
   "metadata": {},
   "outputs": [
    {
     "name": "stdout",
     "output_type": "stream",
     "text": [
      "10\n",
      "20\n"
     ]
    }
   ],
   "source": [
    "print(2 * (1 + 2) ** 2 - 2 ** 2 * 2)\n",
    "print((2+3)*4)"
   ]
  },
  {
   "cell_type": "code",
   "execution_count": 6,
   "metadata": {},
   "outputs": [
    {
     "name": "stdout",
     "output_type": "stream",
     "text": [
      "17\n"
     ]
    }
   ],
   "source": [
    "n=1+5\n",
    "m=n+5\n",
    "\n",
    "print(n+m)"
   ]
  },
  {
   "cell_type": "code",
   "execution_count": 8,
   "metadata": {},
   "outputs": [
    {
     "ename": "NameError",
     "evalue": "name 'X' is not defined",
     "output_type": "error",
     "traceback": [
      "\u001b[0;31m---------------------------------------------------------------------------\u001b[0m",
      "\u001b[0;31mNameError\u001b[0m                                 Traceback (most recent call last)",
      "Cell \u001b[0;32mIn[8], line 1\u001b[0m\n\u001b[0;32m----> 1\u001b[0m \u001b[43mX\u001b[49m\n",
      "\u001b[0;31mNameError\u001b[0m: name 'X' is not defined"
     ]
    }
   ],
   "source": [
    "X"
   ]
  },
  {
   "cell_type": "code",
   "execution_count": 11,
   "metadata": {},
   "outputs": [
    {
     "data": {
      "text/plain": [
       "'45'"
      ]
     },
     "execution_count": 11,
     "metadata": {},
     "output_type": "execute_result"
    }
   ],
   "source": [
    "#input('請輸入X的內容')\n",
    "input('請輸入X的值:')"
   ]
  },
  {
   "cell_type": "code",
   "execution_count": 4,
   "metadata": {},
   "outputs": [
    {
     "name": "stdout",
     "output_type": "stream",
     "text": [
      "<class 'str'>\n",
      "計算結果為: 55.0\n"
     ]
    }
   ],
   "source": [
    "x = input('請輸入X的值: ')  # 注意，這裡的 x 是小寫\n",
    "print(type(x))  # 確認輸入的類型是字串（str）\n",
    "x = float(x)  # 將輸入的字串轉換為浮點數\n",
    "result = x + 10  # 計算結果\n",
    "print(f'計算結果為: {result}')  # 輸出結果"
   ]
  },
  {
   "cell_type": "code",
   "execution_count": 5,
   "metadata": {},
   "outputs": [
    {
     "name": "stdout",
     "output_type": "stream",
     "text": [
      "輸入的類型是: <class 'str'>\n",
      "計算結果為: 55.0\n"
     ]
    }
   ],
   "source": [
    "x = input('請輸入X的值: ')  # x 以字串形式接收輸入\n",
    "print(f'輸入的類型是: {type(x)}')  # 顯示 x 的類型，應為 <class 'str'>\n",
    "\n",
    "# 如果需要進行計算，需將字串轉換為浮點數\n",
    "try:\n",
    "    num_x = float(x)  # 將字串轉換為浮點數\n",
    "    result = num_x + 10  # 執行加法運算\n",
    "    print(f'計算結果為: {result}')\n",
    "except ValueError:\n",
    "    print(f'輸入的值 \"{x}\" 不是有效的數字，無法進行計算！')"
   ]
  },
  {
   "cell_type": "code",
   "execution_count": 7,
   "metadata": {},
   "outputs": [
    {
     "name": "stdout",
     "output_type": "stream",
     "text": [
      "4-7-8.0-hello.\n"
     ]
    }
   ],
   "source": [
    "#print(*objects, sep=' ', end='\\n', file=None, flush=False)\n",
    "radius = float (input('請輸入半徑:'))\n",
    "print(4,\n",
    "     7,\n",
    "      8.0,\n",
    "       'hello',sep='-',end='.\\n')"
   ]
  },
  {
   "cell_type": "code",
   "execution_count": 10,
   "metadata": {},
   "outputs": [
    {
     "name": "stdout",
     "output_type": "stream",
     "text": [
      "3+5+8\n",
      "4+5+9\n",
      "\n",
      "9+9=18\n"
     ]
    }
   ],
   "source": [
    "print(\"3+5+8\")\n",
    "print(\"4+5+9\")\n",
    "print()\n",
    "print(\"9+9=18\")"
   ]
  },
  {
   "cell_type": "code",
   "execution_count": 16,
   "metadata": {},
   "outputs": [
    {
     "name": "stdout",
     "output_type": "stream",
     "text": [
      "半徑: 67.9\n",
      "直徑: 135.8\n",
      "周長: 426.62828302430006\n",
      "面積: 14484.030208674987\n"
     ]
    }
   ],
   "source": [
    "radius = float(input(\"請輸入半徑:請輸入半徑:\"))\n",
    "# Calculate the diameter\n",
    "diameter = 2 * radius\n",
    "# Calculate the circumference\n",
    "circumference = 2 * 3.1415926585 * radius\n",
    "area = 3.1415926585 * radius **2\n",
    "\n",
    "print(\"半徑:\",radius)\n",
    "print(\"直徑:\",diameter)\n",
    "print(\"周長:\",circumference)\n",
    "print(\"面積:\",area)"
   ]
  },
  {
   "cell_type": "code",
   "execution_count": 19,
   "metadata": {},
   "outputs": [
    {
     "name": "stdout",
     "output_type": "stream",
     "text": [
      "對邊: 3.0\n",
      "鄰邊: 4.0\n",
      "斜邊: 5.0\n"
     ]
    }
   ],
   "source": [
    "import math\n",
    "side = float(input(\"請輸入對邊: \"))\n",
    "another_side = float(input(\"請輸入鄰邊: \"))\n",
    "each_side = math.sqrt(side **2 + another_side**2)\n",
    "print(\"對邊:\",side)\n",
    "print(\"鄰邊:\",another_side)\n",
    "print(\"斜邊:\",each_side)"
   ]
  },
  {
   "cell_type": "code",
   "execution_count": 3,
   "metadata": {},
   "outputs": [
    {
     "name": "stdout",
     "output_type": "stream",
     "text": [
      "數據集 [2 4 4 4 5 5 7 9]\n",
      "標準差: 2.0\n",
      "樣本標準差: 2.138089935299395\n"
     ]
    }
   ],
   "source": [
    "import numpy as np\n",
    "\n",
    "data = np.array([2, 4, 4, 4, 5, 5, 7, 9])\n",
    "\n",
    "std_dev = np.std(data)\n",
    "\n",
    "print(\"數據集\",data)\n",
    "print(\"標準差:\",std_dev)\n",
    "\n",
    "sample_std = np.std(data, ddof=1)\n",
    "print(\"樣本標準差:\",sample_std)"
   ]
  },
  {
   "cell_type": "code",
   "execution_count": null,
   "metadata": {},
   "outputs": [],
   "source": []
  }
 ],
 "metadata": {
  "kernelspec": {
   "display_name": "base",
   "language": "python",
   "name": "python3"
  },
  "language_info": {
   "codemirror_mode": {
    "name": "ipython",
    "version": 3
   },
   "file_extension": ".py",
   "mimetype": "text/x-python",
   "name": "python",
   "nbconvert_exporter": "python",
   "pygments_lexer": "ipython3",
   "version": "3.12.2"
  }
 },
 "nbformat": 4,
 "nbformat_minor": 2
}
