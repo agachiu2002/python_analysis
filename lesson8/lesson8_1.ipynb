{
 "cells": [
  {
   "cell_type": "code",
   "execution_count": 1,
   "metadata": {},
   "outputs": [
    {
     "name": "stdout",
     "output_type": "stream",
     "text": [
      "<class 'pandas.core.frame.DataFrame'>\n",
      "RangeIndex: 4 entries, 0 to 3\n",
      "Data columns (total 3 columns):\n",
      " #   Column  Non-Null Count  Dtype  \n",
      "---  ------  --------------  -----  \n",
      " 0   col1    3 non-null      float64\n",
      " 1   col2    4 non-null      object \n",
      " 2   col3    4 non-null      float64\n",
      "dtypes: float64(2), object(1)\n",
      "memory usage: 228.0+ bytes\n"
     ]
    },
    {
     "data": {
      "text/html": [
       "<div>\n",
       "<style scoped>\n",
       "    .dataframe tbody tr th:only-of-type {\n",
       "        vertical-align: middle;\n",
       "    }\n",
       "\n",
       "    .dataframe tbody tr th {\n",
       "        vertical-align: top;\n",
       "    }\n",
       "\n",
       "    .dataframe thead th {\n",
       "        text-align: right;\n",
       "    }\n",
       "</style>\n",
       "<table border=\"1\" class=\"dataframe\">\n",
       "  <thead>\n",
       "    <tr style=\"text-align: right;\">\n",
       "      <th></th>\n",
       "      <th>col1</th>\n",
       "      <th>col2</th>\n",
       "      <th>col3</th>\n",
       "    </tr>\n",
       "  </thead>\n",
       "  <tbody>\n",
       "    <tr>\n",
       "      <th>0</th>\n",
       "      <td>1.0</td>\n",
       "      <td>a</td>\n",
       "      <td>1.1</td>\n",
       "    </tr>\n",
       "    <tr>\n",
       "      <th>1</th>\n",
       "      <td>2.0</td>\n",
       "      <td>b</td>\n",
       "      <td>2.2</td>\n",
       "    </tr>\n",
       "    <tr>\n",
       "      <th>2</th>\n",
       "      <td>3.0</td>\n",
       "      <td>c</td>\n",
       "      <td>3.3</td>\n",
       "    </tr>\n",
       "    <tr>\n",
       "      <th>3</th>\n",
       "      <td>NaN</td>\n",
       "      <td>d</td>\n",
       "      <td>4.4</td>\n",
       "    </tr>\n",
       "  </tbody>\n",
       "</table>\n",
       "</div>"
      ],
      "text/plain": [
       "   col1 col2  col3\n",
       "0   1.0    a   1.1\n",
       "1   2.0    b   2.2\n",
       "2   3.0    c   3.3\n",
       "3   NaN    d   4.4"
      ]
     },
     "execution_count": 1,
     "metadata": {},
     "output_type": "execute_result"
    }
   ],
   "source": [
    "#清理資料\n",
    "import pandas as pd\n",
    "\n",
    "# Sample DataFrame\n",
    "data = {'col1': [1, 2, 3, None], 'col2': ['a', 'b', 'c', 'd'], 'col3': [1.1, 2.2, 3.3, 4.4]}\n",
    "df = pd.DataFrame(data)\n",
    "\n",
    "df.info()\n",
    "df"
   ]
  },
  {
   "cell_type": "code",
   "execution_count": 2,
   "metadata": {},
   "outputs": [
    {
     "data": {
      "text/html": [
       "<div>\n",
       "<style scoped>\n",
       "    .dataframe tbody tr th:only-of-type {\n",
       "        vertical-align: middle;\n",
       "    }\n",
       "\n",
       "    .dataframe tbody tr th {\n",
       "        vertical-align: top;\n",
       "    }\n",
       "\n",
       "    .dataframe thead th {\n",
       "        text-align: right;\n",
       "    }\n",
       "</style>\n",
       "<table border=\"1\" class=\"dataframe\">\n",
       "  <thead>\n",
       "    <tr style=\"text-align: right;\">\n",
       "      <th></th>\n",
       "      <th>0</th>\n",
       "      <th>1</th>\n",
       "      <th>2</th>\n",
       "      <th>3</th>\n",
       "    </tr>\n",
       "  </thead>\n",
       "  <tbody>\n",
       "    <tr>\n",
       "      <th>col1</th>\n",
       "      <td>1.0</td>\n",
       "      <td>2.0</td>\n",
       "      <td>3.0</td>\n",
       "      <td>NaN</td>\n",
       "    </tr>\n",
       "    <tr>\n",
       "      <th>col2</th>\n",
       "      <td>a</td>\n",
       "      <td>b</td>\n",
       "      <td>c</td>\n",
       "      <td>d</td>\n",
       "    </tr>\n",
       "    <tr>\n",
       "      <th>col3</th>\n",
       "      <td>1.1</td>\n",
       "      <td>2.2</td>\n",
       "      <td>3.3</td>\n",
       "      <td>4.4</td>\n",
       "    </tr>\n",
       "  </tbody>\n",
       "</table>\n",
       "</div>"
      ],
      "text/plain": [
       "        0    1    2    3\n",
       "col1  1.0  2.0  3.0  NaN\n",
       "col2    a    b    c    d\n",
       "col3  1.1  2.2  3.3  4.4"
      ]
     },
     "execution_count": 2,
     "metadata": {},
     "output_type": "execute_result"
    }
   ],
   "source": [
    "df.T"
   ]
  },
  {
   "cell_type": "code",
   "execution_count": 3,
   "metadata": {},
   "outputs": [
    {
     "name": "stdout",
     "output_type": "stream",
     "text": [
      "原始 DataFrame：\n",
      "   col1 col2  col3\n",
      "0   1.0    a   1.1\n",
      "1   2.0  NaN   2.2\n",
      "2   NaN    c   3.3\n",
      "3   4.0    d   NaN\n"
     ]
    }
   ],
   "source": [
    "import pandas as pd\n",
    "import numpy as np\n",
    "# 建立一個包含 NaN 的 DataFrame\n",
    "data = {'col1': [1, 2, np.nan, 4], \n",
    "        'col2': ['a', np.nan, 'c', 'd'], \n",
    "        'col3': [1.1, 2.2, 3.3, np.nan]}\n",
    "df = pd.DataFrame(data)\n",
    "\n",
    "print(\"原始 DataFrame：\")\n",
    "print(df)"
   ]
  },
  {
   "cell_type": "code",
   "execution_count": 4,
   "metadata": {},
   "outputs": [
    {
     "name": "stdout",
     "output_type": "stream",
     "text": [
      "\n",
      "刪除包含任何 NaN 值的列後：\n",
      "   col1 col2  col3\n",
      "0   1.0    a   1.1\n"
     ]
    }
   ],
   "source": [
    "# 刪除包含任何 NaN 值的列\n",
    "df_dropped = df.dropna()\n",
    "print(\"\\n刪除包含任何 NaN 值的列後：\")\n",
    "print(df_dropped)"
   ]
  },
  {
   "cell_type": "code",
   "execution_count": 5,
   "metadata": {},
   "outputs": [
    {
     "name": "stdout",
     "output_type": "stream",
     "text": [
      "\n",
      "刪除所有值都是 NaN 的列後：\n",
      "   col1 col2  col3\n",
      "0   1.0    a   1.1\n",
      "1   2.0  NaN   2.2\n",
      "2   NaN    c   3.3\n",
      "3   4.0    d   NaN\n"
     ]
    }
   ],
   "source": [
    "# 刪除所有值都是 NaN 的列\n",
    "df_dropped_all = df.dropna(how='all')\n",
    "print(\"\\n刪除所有值都是 NaN 的列後：\")\n",
    "print(df_dropped_all)"
   ]
  },
  {
   "cell_type": "code",
   "execution_count": 6,
   "metadata": {},
   "outputs": [
    {
     "name": "stdout",
     "output_type": "stream",
     "text": [
      "\n",
      "至少要有3個非NaN值才保留：\n",
      "   col1 col2  col3\n",
      "0   1.0    a   1.1\n"
     ]
    }
   ],
   "source": [
    "# 至少要有3個非NaN值才保留\n",
    "df_dropped_thresh = df.dropna(thresh=3)\n",
    "print(\"\\n至少要有3個非NaN值才保留：\")\n",
    "print(df_dropped_thresh)"
   ]
  },
  {
   "cell_type": "code",
   "execution_count": 7,
   "metadata": {},
   "outputs": [
    {
     "name": "stdout",
     "output_type": "stream",
     "text": [
      "\n",
      "只在col1和col2檢查Nan：\n",
      "   col1 col2  col3\n",
      "0   1.0    a   1.1\n",
      "3   4.0    d   NaN\n"
     ]
    }
   ],
   "source": [
    "# 只在col1和col2檢查Nan\n",
    "df_dropped_subset = df.dropna(subset=['col1','col2'])\n",
    "print(\"\\n只在col1和col2檢查Nan：\")\n",
    "print(df_dropped_subset)"
   ]
  },
  {
   "cell_type": "code",
   "execution_count": 8,
   "metadata": {},
   "outputs": [
    {
     "name": "stdout",
     "output_type": "stream",
     "text": [
      "\n",
      "直接修改原始 DataFrame：\n",
      "   col1 col2  col3\n",
      "0   1.0    a   1.1\n"
     ]
    }
   ],
   "source": [
    "# 直接修改原始 DataFrame\n",
    "df.dropna(inplace=True)\n",
    "print(\"\\n直接修改原始 DataFrame：\")\n",
    "print(df)"
   ]
  },
  {
   "cell_type": "code",
   "execution_count": 9,
   "metadata": {},
   "outputs": [
    {
     "name": "stdout",
     "output_type": "stream",
     "text": [
      "原始 DataFrame：\n",
      "   col1 col2  col3  col4\n",
      "0   1.0    a   1.1   1.0\n",
      "1   2.0  NaN   2.2   2.0\n",
      "2   NaN    c   3.3   3.0\n",
      "3   4.0    d   NaN   4.0\n",
      "4   5.0    e   5.5   NaN\n"
     ]
    }
   ],
   "source": [
    "import pandas as pd\n",
    "import numpy as np\n",
    "\n",
    "data = {\n",
    "    'col1': [1, 2, np.nan, 4, 5],\n",
    "    'col2': ['a', np.nan, 'c', 'd', 'e'],\n",
    "    'col3': [1.1, 2.2, 3.3, np.nan, 5.5],\n",
    "    'col4': [1, 2, 3, 4, np.nan]\n",
    "}\n",
    "df = pd.DataFrame(data)\n",
    "print(\"原始 DataFrame：\")\n",
    "print(df)"
   ]
  },
  {
   "cell_type": "code",
   "execution_count": 10,
   "metadata": {},
   "outputs": [
    {
     "name": "stdout",
     "output_type": "stream",
     "text": [
      "\n",
      "刪除包含任何 NaN 值的欄後：\n",
      "Empty DataFrame\n",
      "Columns: []\n",
      "Index: [0, 1, 2, 3, 4]\n"
     ]
    }
   ],
   "source": [
    "# 刪除包含任何 NaN 值的欄\n",
    "df_dropped_cols = df.dropna(axis=1)\n",
    "print(\"\\n刪除包含任何 NaN 值的欄後：\")\n",
    "print(df_dropped_cols)\n"
   ]
  },
  {
   "cell_type": "code",
   "execution_count": 11,
   "metadata": {},
   "outputs": [
    {
     "name": "stdout",
     "output_type": "stream",
     "text": [
      "\n",
      "刪除所有值都是 NaN 的欄後：\n",
      "   col1 col2  col3  col4\n",
      "0   1.0    a   1.1   1.0\n",
      "1   2.0  NaN   2.2   2.0\n",
      "2   NaN    c   3.3   3.0\n",
      "3   4.0    d   NaN   4.0\n",
      "4   5.0    e   5.5   NaN\n"
     ]
    }
   ],
   "source": [
    "# 刪除所有值都是 NaN 的欄\n",
    "df_dropped_cols_all = df.dropna(axis=1, how='all')\n",
    "print(\"\\n刪除所有值都是 NaN 的欄後：\")\n",
    "print(df_dropped_cols_all)"
   ]
  },
  {
   "cell_type": "code",
   "execution_count": 12,
   "metadata": {},
   "outputs": [
    {
     "name": "stdout",
     "output_type": "stream",
     "text": [
      "\n",
      "至少要有3個非NaN值才保留：\n",
      "   col1 col2  col3  col4\n",
      "0   1.0    a   1.1   1.0\n",
      "1   2.0  NaN   2.2   2.0\n",
      "2   NaN    c   3.3   3.0\n",
      "3   4.0    d   NaN   4.0\n",
      "4   5.0    e   5.5   NaN\n"
     ]
    }
   ],
   "source": [
    "# 至少要有3個非NaN值才保留\n",
    "df_dropped_cols_thresh = df.dropna(axis=1, thresh=3)\n",
    "print(\"\\n至少要有3個非NaN值才保留：\")\n",
    "print(df_dropped_cols_thresh)"
   ]
  },
  {
   "cell_type": "code",
   "execution_count": 13,
   "metadata": {},
   "outputs": [
    {
     "name": "stdout",
     "output_type": "stream",
     "text": [
      "\n",
      "直接修改原始 DataFrame：\n",
      "Empty DataFrame\n",
      "Columns: []\n",
      "Index: [0, 1, 2, 3, 4]\n"
     ]
    }
   ],
   "source": [
    "# 直接修改原始 DataFrame\n",
    "df.dropna(axis=1, inplace=True)\n",
    "print(\"\\n直接修改原始 DataFrame：\")\n",
    "print(df)"
   ]
  },
  {
   "cell_type": "code",
   "execution_count": 14,
   "metadata": {},
   "outputs": [
    {
     "name": "stdout",
     "output_type": "stream",
     "text": [
      "原始 DataFrame：\n",
      "   col1 col2  col3  col4\n",
      "0   1.0    a   1.1   1.0\n",
      "1   2.0  NaN   2.2   NaN\n",
      "2   NaN    c   3.3   3.0\n",
      "3   4.0    d   NaN   4.0\n",
      "4   5.0    e   5.5   5.0\n"
     ]
    }
   ],
   "source": [
    "import pandas as pd\n",
    "import numpy as np\n",
    "\n",
    "# 建立一個包含 NaN 的 DataFrame\n",
    "data = {\n",
    "    'col1': [1, 2, np.nan, 4, 5],\n",
    "    'col2': ['a', np.nan, 'c', 'd', 'e'],\n",
    "    'col3': [1.1, 2.2, 3.3, np.nan, 5.5],\n",
    "    'col4': [1, np.nan, 3, 4, 5]\n",
    "}\n",
    "df = pd.DataFrame(data)\n",
    "print(\"原始 DataFrame：\")\n",
    "print(df)\n"
   ]
  },
  {
   "cell_type": "code",
   "execution_count": 15,
   "metadata": {},
   "outputs": [
    {
     "name": "stdout",
     "output_type": "stream",
     "text": [
      "\n",
      "刪除包含任何 NaN 的列：\n",
      "   col1 col2  col3  col4\n",
      "0   1.0    a   1.1   1.0\n",
      "4   5.0    e   5.5   5.0\n"
     ]
    }
   ],
   "source": [
    "# 範例 1：刪除任何包含 NaN 的列 (預設行為)\n",
    "df_dropped_rows = df.dropna()\n",
    "print(\"\\n刪除包含任何 NaN 的列：\")\n",
    "print(df_dropped_rows)"
   ]
  }
 ],
 "metadata": {
  "kernelspec": {
   "display_name": "base",
   "language": "python",
   "name": "python3"
  },
  "language_info": {
   "codemirror_mode": {
    "name": "ipython",
    "version": 3
   },
   "file_extension": ".py",
   "mimetype": "text/x-python",
   "name": "python",
   "nbconvert_exporter": "python",
   "pygments_lexer": "ipython3",
   "version": "3.12.9"
  }
 },
 "nbformat": 4,
 "nbformat_minor": 2
}
