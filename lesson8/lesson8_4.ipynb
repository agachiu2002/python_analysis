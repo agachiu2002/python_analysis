{
 "cells": [
  {
   "cell_type": "code",
   "execution_count": 33,
   "metadata": {},
   "outputs": [
    {
     "name": "stdout",
     "output_type": "stream",
     "text": []
    }
   ],
   "source": [
    "import pandas as pd\n",
    "\n",
    "df= pd.read_csv('各鄉鎮市區人口密度.csv')\n",
    "df.info()\n"
   ]
  },
  {
   "cell_type": "code",
   "execution_count": 34,
   "metadata": {},
   "outputs": [
    {
     "name": "stdout",
     "output_type": "stream",
     "text": []
    }
   ],
   "source": [
    "df1 =df.dropna()\n",
    "df1.tail()\n",
    "df1.head()\n",
    "df1.info()"
   ]
  },
  {
   "cell_type": "code",
   "execution_count": 35,
   "metadata": {},
   "outputs": [
    {
     "data": {},
     "execution_count": 35,
     "metadata": {},
     "output_type": "execute_result"
    }
   ],
   "source": [
    "df1.head()"
   ]
  },
  {
   "cell_type": "code",
   "execution_count": 36,
   "metadata": {},
   "outputs": [
    {
     "data": {},
     "execution_count": 36,
     "metadata": {},
     "output_type": "execute_result"
    }
   ],
   "source": [
    "df1.iloc[0]"
   ]
  },
  {
   "cell_type": "code",
   "execution_count": 37,
   "metadata": {},
   "outputs": [
    {
     "data": {},
     "execution_count": 37,
     "metadata": {},
     "output_type": "execute_result"
    }
   ],
   "source": [
    "df2= df1.rename(columns=df1.iloc[0].to_dict()) #選列\n",
    "df2"
   ]
  },
  {
   "cell_type": "markdown",
   "metadata": {},
   "source": [
    "### 更改 DataFrame 的欄位名稱\n",
    "可以使用 `rename` 方法來更改 DataFrame 的欄位名稱。以下是範例代碼：\n",
    "```python\n",
    "# 假設我們有一個 DataFrame df\n",
    "df = pd.DataFrame({\n",
    "    'A': [1, 2, 3],\n",
    "    'B': [4, 5, 6]\n",
    "})\n",
    "# 我們想將欄位 'A' 更改為 'Alpha'，'B' 更改為 'Beta'\n",
    "df = df.rename(columns={'A': 'Alpha', 'B': 'Beta'})\n",
    "print(df)\n",
    "```\n",
    "這樣就可以更改 DataFrame 的欄位名稱。"
   ]
  },
  {
   "cell_type": "code",
   "execution_count": 38,
   "metadata": {},
   "outputs": [
    {
     "name": "stdout",
     "output_type": "stream",
     "text": []
    }
   ],
   "source": [
    "df3=df2.drop(index=0)\n",
    "df3.info()"
   ]
  },
  {
   "cell_type": "code",
   "execution_count": 39,
   "metadata": {},
   "outputs": [
    {
     "data": {},
     "execution_count": 39,
     "metadata": {},
     "output_type": "execute_result"
    }
   ],
   "source": [
    "import numpy as np\n",
    "def str_to_int(value:str)-> int: #轉成整數\n",
    "    return value\n",
    "df3['年底人口數'].map(str)"
   ]
  },
  {
   "cell_type": "code",
   "execution_count": 41,
   "metadata": {},
   "outputs": [],
   "source": [
    "import numpy as np\n",
    "def str_to_int(value:str) -> int:\n",
    "    try:\n",
    "        value_int = int(value)\n",
    "    except:\n",
    "        value_int = 0\n",
    "    return value_int\n",
    "\n",
    "def str_to_float(value:str) -> float:\n",
    "   try:\n",
    "        value_float = float(value)\n",
    "   except:\n",
    "        value_float = 0\n",
    "   return value_float\n",
    "\n",
    "df3['年底人口數'] = df3['年底人口數'].map(str_to_int)\n",
    "df3['人口密度'] = df3['人口密度'].map(str_to_int)\n",
    "df3['土地面積'] = df3['土地面積'].map(str_to_float)"
   ]
  },
  {
   "cell_type": "code",
   "execution_count": 42,
   "metadata": {},
   "outputs": [
    {
     "name": "stdout",
     "output_type": "stream",
     "text": []
    }
   ],
   "source": [
    "df3.info()"
   ]
  },
  {
   "cell_type": "code",
   "execution_count": 43,
   "metadata": {},
   "outputs": [
    {
     "data": {},
     "execution_count": 43,
     "metadata": {},
     "output_type": "execute_result"
    }
   ],
   "source": [
    "df3"
   ]
  },
  {
   "cell_type": "code",
   "execution_count": 45,
   "metadata": {},
   "outputs": [],
   "source": [
    "def split(value:str) -> str: #字串\n",
    "    if len (value)>4:\n",
    "        return value[:3] #傳出前三個字\n",
    "    else: \n",
    "        return value\n",
    "df3['縣市']=df3['區域別'].map(split)"
   ]
  },
  {
   "cell_type": "code",
   "execution_count": 46,
   "metadata": {},
   "outputs": [
    {
     "data": {},
     "execution_count": 46,
     "metadata": {},
     "output_type": "execute_result"
    }
   ],
   "source": [
    "df3"
   ]
  },
  {
   "cell_type": "code",
   "execution_count": 48,
   "metadata": {},
   "outputs": [
    {
     "data": {},
     "execution_count": 48,
     "metadata": {},
     "output_type": "execute_result"
    }
   ],
   "source": [
    "df4=df3.reindex(columns=['縣市','區域別','年底人口數','土地面積','人口密度'])\n",
    "df4"
   ]
  },
  {
   "cell_type": "code",
   "execution_count": 57,
   "metadata": {},
   "outputs": [
    {
     "data": {},
     "execution_count": 57,
     "metadata": {},
     "output_type": "execute_result"
    }
   ],
   "source": [
    "def population(value:int)-> str:\n",
    "    if value>367653:\n",
    "        return'人多'\n",
    "    elif value >183826:\n",
    "        return'適中'\n",
    "    else:\n",
    "        return '人少'\n",
    "df4['人口分佈']=df4['年底人口數'].map(population)\n",
    "df4"
   ]
  },
  {
   "cell_type": "code",
   "execution_count": 52,
   "metadata": {},
   "outputs": [
    {
     "data": {},
     "execution_count": 52,
     "metadata": {},
     "output_type": "execute_result"
    }
   ],
   "source": [
    "pd.cut(df4['年底人口數'],bins=3)\n"
   ]
  },
  {
   "cell_type": "code",
   "execution_count": 58,
   "metadata": {},
   "outputs": [
    {
     "name": "stdout",
     "output_type": "stream",
     "text": []
    }
   ],
   "source": [
    "! pip install seaborn"
   ]
  },
  {
   "cell_type": "code",
   "execution_count": 58,
   "metadata": {},
   "outputs": [
    {
     "name": "stdout",
     "output_type": "stream",
     "text": []
    }
   ],
   "source": [
    "! pip install seaborn"
   ]
  },
  {
   "cell_type": "code",
   "execution_count": null,
   "metadata": {},
   "outputs": [],
   "source": []
  },
  {
   "cell_type": "code",
   "execution_count": 67,
   "metadata": {},
   "outputs": [
    {
     "name": "stdout",
     "output_type": "stream",
     "text": []
    },
    {
     "name": "stdout",
     "output_type": "stream",
     "text": []
    }
   ],
   "source": [
    "import matplotlib.pyplot as plt\n",
    "import seaborn as sns\n",
    "\n",
    "import matplotlib.pyplot as plt\n",
    "from matplotlib.font_manager import fontManager\n",
    "import matplotlib as mlp\n",
    "fontManager.addfont('ChineseFont.ttf')\n",
    "mlp.rc('font', family='ChineseFont')\n",
    "\n",
    "\n",
    "df_plot = df4[['縣市','年底人口數']]\n",
    "\n",
    "# 建立每個區域的人口分佈圖\n",
    "plt.figure(figsize=(10, 6))\n",
    "sns.histplot(data=df_plot, x='年底人口數', hue='縣市', multiple='stack',kde=False)\n",
    "plt.xlabel('年底人口數')\n",
    "plt.ylabel('次數')\n",
    "plt.title('各區域人口數量分佈圖')\n",
    "plt.xticks(rotation=45,ha='right')\n",
    "plt.tight_layout()\n",
    "plt.show()\n",
    "\n",
    "# 建立每個區域的人口盒鬚圖\n",
    "plt.figure(figsize=(12, 8))\n",
    "sns.boxplot(x='縣市', y='年底人口數', data=df4)\n",
    "plt.xlabel('縣市')\n",
    "plt.ylabel('年底人口數')\n",
    "plt.title('各區域人口數量盒鬚圖')\n",
    "plt.xticks(rotation=45, ha='right')\n",
    "plt.tight_layout()\n",
    "plt.show()"
   ]
  },
  {
   "cell_type": "code",
   "execution_count": null,
   "metadata": {},
   "outputs": [],
   "source": []
  }
 ],
 "metadata": {
  "kernelspec": {
   "display_name": "base",
   "language": "python",
   "name": "python3"
  },
  "language_info": {
   "codemirror_mode": {
    "name": "ipython",
    "version": 3
   },
   "file_extension": ".py",
   "mimetype": "text/x-python",
   "name": "python",
   "nbconvert_exporter": "python",
   "pygments_lexer": "ipython3",
   "version": "3.12.9"
  }
 },
 "nbformat": 4,
 "nbformat_minor": 2
}
