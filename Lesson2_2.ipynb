{
 "cells": [
  {
   "cell_type": "code",
   "execution_count": 11,
   "metadata": {},
   "outputs": [
    {
     "data": {
      "text/plain": [
       "[2, 8, 9]"
      ]
     },
     "execution_count": 11,
     "metadata": {},
     "output_type": "execute_result"
    }
   ],
   "source": [
    "#使用符號建立\n",
    "lucky_number = [2, 8, 9]\n",
    "type(lucky_number)\n",
    "lucky_number"
   ]
  },
  {
   "cell_type": "code",
   "execution_count": 9,
   "metadata": {},
   "outputs": [
    {
     "name": "stdout",
     "output_type": "stream",
     "text": [
      "<class 'list'>\n"
     ]
    },
    {
     "data": {
      "text/plain": [
       "(2, 8, 9)"
      ]
     },
     "execution_count": 9,
     "metadata": {},
     "output_type": "execute_result"
    }
   ],
   "source": [
    "#tuple的符號建立\n",
    "lucky_number1 = (2,8,9)  #tuple用()小括號 list 用[]\n",
    "print(type(lucky_number))\n",
    "lucky_number1\n",
    "\n",
    "#tuple和list的最大差異是打包了 就無法拆開，要修改要重新拆開重打包\n",
    "#list則可以新增元素，改變內容值，靈活性較高\n",
    "#暫時要寄東西過去 用tuple 防止傳送過程中被修改"
   ]
  },
  {
   "cell_type": "code",
   "execution_count": 10,
   "metadata": {},
   "outputs": [
    {
     "name": "stdout",
     "output_type": "stream",
     "text": [
      "<class 'tuple'>\n"
     ]
    },
    {
     "data": {
      "text/plain": [
       "(2, 8, 9)"
      ]
     },
     "execution_count": 10,
     "metadata": {},
     "output_type": "execute_result"
    }
   ],
   "source": [
    "#tuple的符號建立\n",
    "lucky_number1 = (2, 8, 9)\n",
    "print(type(lucky_number1))\n",
    "lucky_number1"
   ]
  },
  {
   "cell_type": "code",
   "execution_count": 6,
   "metadata": {},
   "outputs": [
    {
     "data": {
      "text/plain": [
       "19"
      ]
     },
     "execution_count": 6,
     "metadata": {},
     "output_type": "execute_result"
    }
   ],
   "source": [
    "sum (lucky_number) #list\n",
    "#sum()<<擺放串列資料"
   ]
  },
  {
   "cell_type": "code",
   "execution_count": 14,
   "metadata": {},
   "outputs": [
    {
     "name": "stdout",
     "output_type": "stream",
     "text": [
      "2\n",
      "8\n",
      "9\n"
     ]
    }
   ],
   "source": [
    "print(lucky_number[0])\n",
    "print(lucky_number[1])\n",
    "print(lucky_number[2])"
   ]
  },
  {
   "cell_type": "code",
   "execution_count": 16,
   "metadata": {},
   "outputs": [
    {
     "data": {
      "text/plain": [
       "[10, 20, 30]"
      ]
     },
     "execution_count": 16,
     "metadata": {},
     "output_type": "execute_result"
    }
   ],
   "source": [
    "lucky_number [0] = 10\n",
    "lucky_number [1] = 20\n",
    "lucky_number [2] = 30\n",
    "lucky_number\n",
    "#list 內容可以修改\n",
    "#利用索引編號抓出值"
   ]
  },
  {
   "cell_type": "code",
   "execution_count": 19,
   "metadata": {},
   "outputs": [
    {
     "data": {
      "text/plain": [
       "[60, 90, 89, 69, 55]"
      ]
     },
     "execution_count": 19,
     "metadata": {},
     "output_type": "execute_result"
    }
   ],
   "source": [
    "#學生成績範例\n",
    "[67,87,96.69,92] \n",
    "[60,90,89,69,55]\n",
    "\n",
    "#只會顯示最後一個無用代碼"
   ]
  },
  {
   "cell_type": "code",
   "execution_count": 21,
   "metadata": {},
   "outputs": [
    {
     "name": "stdout",
     "output_type": "stream",
     "text": [
      "[67, 87, 96.69, 92]\n",
      "[60, 90, 89, 69, 55]\n"
     ]
    }
   ],
   "source": [
    "#學生成績範例 優化程序\n",
    "students =[ \n",
    "    [67,87,96.69,92], #學生1\n",
    "    [60,90,89,69,55] #學生2\n",
    "]\n",
    "print(students[0])\n",
    "print(students[1])"
   ]
  }
 ],
 "metadata": {
  "kernelspec": {
   "display_name": "base",
   "language": "python",
   "name": "python3"
  },
  "language_info": {
   "codemirror_mode": {
    "name": "ipython",
    "version": 3
   },
   "file_extension": ".py",
   "mimetype": "text/x-python",
   "name": "python",
   "nbconvert_exporter": "python",
   "pygments_lexer": "ipython3",
   "version": "3.12.2"
  }
 },
 "nbformat": 4,
 "nbformat_minor": 2
}
